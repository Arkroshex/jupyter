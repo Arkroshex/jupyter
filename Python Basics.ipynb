{
 "metadata": {
  "language_info": {
   "codemirror_mode": {
    "name": "ipython",
    "version": 3
   },
   "file_extension": ".py",
   "mimetype": "text/x-python",
   "name": "python",
   "nbconvert_exporter": "python",
   "pygments_lexer": "ipython3",
   "version": "3.9.2-final"
  },
  "orig_nbformat": 2,
  "kernelspec": {
   "name": "python3",
   "display_name": "Python 3.9.2 64-bit",
   "metadata": {
    "interpreter": {
     "hash": "f149a5732a34b8d3c3f8ec704e61e3afd038b3116cbe1db9a9dd728f347edbd9"
    }
   }
  }
 },
 "nbformat": 4,
 "nbformat_minor": 2,
 "cells": [
  {
   "cell_type": "code",
   "execution_count": 5,
   "metadata": {},
   "outputs": [
    {
     "output_type": "stream",
     "name": "stdout",
     "text": [
      "Igor 127.8 22\n"
     ]
    }
   ],
   "source": [
    "#Variáveis\n",
    "nome=str('Igor')\n",
    "idade=int(22)\n",
    "peso=float(127.8)\n",
    "print(nome, peso, idade)"
   ]
  },
  {
   "cell_type": "code",
   "execution_count": 9,
   "metadata": {},
   "outputs": [
    {
     "output_type": "stream",
     "name": "stdout",
     "text": [
      "Bem vindo, igor\n"
     ]
    }
   ],
   "source": [
    "#Input de usuário\n",
    "nome=input('Olá! Qual é o seu nome?')\n",
    "print('Bem vindo,', nome)"
   ]
  },
  {
   "cell_type": "code",
   "execution_count": 12,
   "metadata": {},
   "outputs": [
    {
     "output_type": "stream",
     "name": "stdout",
     "text": [
      "A soma é  70\n"
     ]
    }
   ],
   "source": [
    "#Soma de inteiros \n",
    "num1=int(input('Primeiro número'))\n",
    "num2=int(input('Segundo número'))\n",
    "soma = num1 + num2\n",
    "print('A soma é ' , soma)"
   ]
  }
 ]
}